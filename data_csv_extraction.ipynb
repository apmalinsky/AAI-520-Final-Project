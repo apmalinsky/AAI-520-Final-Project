{
 "cells": [
  {
   "cell_type": "code",
   "execution_count": 1,
   "metadata": {},
   "outputs": [],
   "source": [
    "# Import data readers\n",
    "from ipynb.fs.defs.data_preparation import read_movie_metadata, read_character_metadata, read_line_data, read_conversations_data\n",
    "movie_df = read_movie_metadata()\n",
    "character_df = read_character_metadata(movie_df)\n",
    "line_df = read_line_data(movie_df, character_df)\n",
    "conversation_df = read_conversations_data(movie_df, character_df, line_df)"
   ]
  },
  {
   "cell_type": "code",
   "execution_count": null,
   "metadata": {},
   "outputs": [],
   "source": [
    "character_df.to_csv('character_df.csv')\n",
    "line_df.to_csv('line_df.csv')\n",
    "conversation_df.to_csv('conversation_df.csv')"
   ]
  }
 ],
 "metadata": {
  "kernelspec": {
   "display_name": "Python 3",
   "language": "python",
   "name": "python3"
  },
  "language_info": {
   "codemirror_mode": {
    "name": "ipython",
    "version": 3
   },
   "file_extension": ".py",
   "mimetype": "text/x-python",
   "name": "python",
   "nbconvert_exporter": "python",
   "pygments_lexer": "ipython3",
   "version": "3.12.6"
  }
 },
 "nbformat": 4,
 "nbformat_minor": 2
}
