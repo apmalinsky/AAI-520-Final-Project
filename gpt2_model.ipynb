{
 "cells": [
  {
   "cell_type": "markdown",
   "metadata": {},
   "source": [
    "# GPT-2 Training"
   ]
  },
  {
   "cell_type": "code",
   "execution_count": 14,
   "metadata": {},
   "outputs": [],
   "source": [
    "# Import data readers\n",
    "from ipynb.fs.defs.data_preparation import read_movie_metadata, read_character_metadata, read_line_data, read_conversations_data"
   ]
  },
  {
   "cell_type": "code",
   "execution_count": 15,
   "metadata": {},
   "outputs": [],
   "source": [
    "movie_df = read_movie_metadata()\n",
    "character_df = read_character_metadata(movie_df)\n",
    "line_df = read_line_data(movie_df, character_df)\n",
    "conversation_df = read_conversations_data(movie_df, character_df, line_df)"
   ]
  },
  {
   "cell_type": "code",
   "execution_count": 16,
   "metadata": {},
   "outputs": [
    {
     "name": "stdout",
     "output_type": "stream",
     "text": [
      "Number of movies: 617\n",
      "Number of characters: 9035\n",
      "Number of lines: 304713\n",
      "Number of conversations: 83097\n"
     ]
    }
   ],
   "source": [
    "print(f\"Number of movies: {len(movie_df)}\")\n",
    "print(f\"Number of characters: {len(character_df)}\")\n",
    "print(f\"Number of lines: {len(line_df)}\")\n",
    "print(f\"Number of conversations: {len(conversation_df)}\")"
   ]
  },
  {
   "cell_type": "code",
   "execution_count": 17,
   "metadata": {},
   "outputs": [],
   "source": [
    "df = conversation_df.copy(deep=True)"
   ]
  },
  {
   "cell_type": "code",
   "execution_count": 18,
   "metadata": {},
   "outputs": [],
   "source": [
    "def convert_to_conversation(conversation_data, line_df):\n",
    "    # Turn conversation into chat format of one input and one response\n",
    "    # For each pair of lines, add start of sentence token, end of sentence token, and bot response\n",
    "\n",
    "    chats = []\n",
    "    for data in conversation_data:\n",
    "        # If it is not even, drop the last line as it is missing the bot response\n",
    "        if len(data) % 2 == 1:\n",
    "            data = data[:-1]\n",
    "\n",
    "        for idx, line in enumerate(data):\n",
    "            line_text = line_df[line_df[\"id\"] == line][\"line\"].values[0]\n",
    "\n",
    "            if idx % 2 == 0:\n",
    "                chat = \" \".join([\"<SOS>\", line_text])\n",
    "            else:\n",
    "                chat = \" \".join([chat, \"<BOT>\", line_text, \"<EOS>\"])\n",
    "                chats.append(chat)\n",
    "\n",
    "    return chats\n",
    "\n",
    "\n",
    "chats = convert_to_conversation(conversation_df[\"lines\"].values, line_df)"
   ]
  },
  {
   "cell_type": "code",
   "execution_count": 19,
   "metadata": {},
   "outputs": [
    {
     "data": {
      "text/plain": [
       "Embedding(50261, 768)"
      ]
     },
     "execution_count": 19,
     "metadata": {},
     "output_type": "execute_result"
    }
   ],
   "source": [
    "from transformers import GPT2LMHeadModel, GPT2Tokenizer\n",
    "\n",
    "# Load tokenizer and model\n",
    "tokenizer = GPT2Tokenizer.from_pretrained(\"gpt2\", clean_up_tokenization_spaces=True)\n",
    "model = GPT2LMHeadModel.from_pretrained(\"gpt2\")\n",
    "\n",
    "# Add special tokens for start/end of sentence, padding, and bot response\n",
    "tokenizer.add_special_tokens({\"pad_token\": \"<PAD>\", \"bos_token\": \"<SOS>\", \"eos_token\": \"<EOS>\"})\n",
    "tokenizer.add_tokens([\"<BOT>\"])\n",
    "model.resize_token_embeddings(len(tokenizer))"
   ]
  },
  {
   "cell_type": "code",
   "execution_count": 20,
   "metadata": {},
   "outputs": [
    {
     "name": "stderr",
     "output_type": "stream",
     "text": [
      "Setting `pad_token_id` to `eos_token_id`:None for open-end generation.\n",
      "d:\\My Stuff\\School\\MSAAI\\AAI 520\\final_project\\venv\\lib\\site-packages\\transformers\\generation\\utils.py:1220: UserWarning: Using the model-agnostic default `max_length` (=20) to control the generation length. We recommend setting `max_new_tokens` to control the maximum length of the generation.\n",
      "  warnings.warn(\n"
     ]
    },
    {
     "name": "stdout",
     "output_type": "stream",
     "text": [
      "<SOS> Hi how are you?  <BOT>  <SOS><SOS><SOS><SOS><SOS><SOS><SOS><SOS><SOS><SOS><SOS>\n"
     ]
    }
   ],
   "source": [
    "print(tokenizer.decode(model.generate(**tokenizer(\"<SOS> Hi how are you? <BOT> \", return_tensors=\"pt\"))[0]))"
   ]
  },
  {
   "cell_type": "code",
   "execution_count": 21,
   "metadata": {},
   "outputs": [],
   "source": [
    "from torch.utils.data import Dataset\n",
    "class ChatData(Dataset):\n",
    "    def __init__(self, chats, tokenizer):\n",
    "        self.chats = chats\n",
    "        self.tokenizer = tokenizer\n",
    "        self.max_len = 128\n",
    "\n",
    "        self.encoded_data = self.tokenizer(self.chats, truncation=True, padding=\"max_length\", max_length=self.max_len, return_tensors=\"pt\")\n",
    "        self.input_id = self.encoded_data[\"input_ids\"]\n",
    "        self.attention_mask = self.encoded_data[\"attention_mask\"]\n",
    "\n",
    "    def __len__(self):\n",
    "        return len(self.chats)\n",
    "\n",
    "    def __getitem__(self, idx):\n",
    "        return self.input_id[idx], self.attention_mask[idx]"
   ]
  },
  {
   "cell_type": "code",
   "execution_count": 22,
   "metadata": {},
   "outputs": [],
   "source": [
    "import torch\n",
    "from torch.optim import Adam\n",
    "from tqdm import tqdm\n",
    "from pathlib import Path\n",
    "\n",
    "\n",
    "def train_model(chat_data, model, optimizer, device, epochs=10, save_every=5):\n",
    "    model.train()\n",
    "    for epoch in tqdm(range(epochs)):\n",
    "        batch = 0\n",
    "        for input_id, attention_mask in chat_data:\n",
    "            batch += 1\n",
    "            # print(f\"Batch: {batch}\")\n",
    "            input_id = input_id.to(device)\n",
    "            attention_mask = attention_mask.to(device)\n",
    "            output = model(input_id, attention_mask=attention_mask, labels=input_id)\n",
    "            loss = output.loss\n",
    "            loss.backward()\n",
    "            optimizer.step()\n",
    "            optimizer.zero_grad()\n",
    "\n",
    "        # Print example chat\n",
    "        # example = tokenizer(\"<SOS> Hi I am Ethan, how are you? <BOT>\", return_tensors=\"pt\")\n",
    "        # input_id = example[\"input_ids\"].to(device)\n",
    "        # attention_mask = example[\"attention_mask\"].to(device)\n",
    "        # print(tokenizer.decode(model.generate(input_id, attention_mask=attention_mask)[0]))\n",
    "\n",
    "        if epoch % save_every == 0:\n",
    "            torch.save(model.state_dict(), Path(f\"models/gpt2/checkpoints/model_{epoch}.pt\"))\n",
    "\n",
    "    torch.save(model.state_dict(), Path(f\"models/gpt2/final/model_final_20241013_1200.pt\"))\n",
    "\n",
    "def inference(model, tokenizer, device, chat):\n",
    "    model.eval()\n",
    "    chat = tokenizer(\" \".join([\"<SOS>\", chat, \"<BOT>\"]), return_tensors=\"pt\")\n",
    "    input_id = chat[\"input_ids\"].to(device)\n",
    "    attention_mask = chat[\"attention_mask\"].to(device)\n",
    "    output = model.generate(input_id, attention_mask=attention_mask, max_length=128)\n",
    "    print(tokenizer.decode(output[0], skip_special_tokens=True))\n",
    "\n",
    "def chat_with_model(model, tokenizer, device):\n",
    "    model.eval()\n",
    "    chat = input(\"User: \")\n",
    "    while chat != \"quit\" and chat != \"q\":\n",
    "        inference(model, tokenizer, device, chat)\n",
    "        chat = input(\"User: \")\n",
    "\n",
    "device = torch.device(\"cuda\" if torch.cuda.is_available() else \"cpu\")\n",
    "model.to(device);"
   ]
  },
  {
   "cell_type": "code",
   "execution_count": 23,
   "metadata": {},
   "outputs": [],
   "source": [
    "from torch.utils.data import DataLoader\n",
    "\n",
    "chat_data = DataLoader(ChatData(chats[0:20000], tokenizer), batch_size=16, shuffle=True)"
   ]
  },
  {
   "cell_type": "code",
   "execution_count": 24,
   "metadata": {},
   "outputs": [
    {
     "name": "stderr",
     "output_type": "stream",
     "text": [
      "100%|██████████| 10/10 [1:09:45<00:00, 418.56s/it]\n"
     ]
    }
   ],
   "source": [
    "optimizer = Adam(model.parameters(), lr=5e-5)\n",
    "train_model(chat_data, model, optimizer, device, epochs=10, save_every=5)"
   ]
  },
  {
   "cell_type": "code",
   "execution_count": 25,
   "metadata": {},
   "outputs": [
    {
     "name": "stderr",
     "output_type": "stream",
     "text": [
      "C:\\Users\\Ethan\\AppData\\Local\\Temp\\ipykernel_11808\\503426619.py:1: FutureWarning: You are using `torch.load` with `weights_only=False` (the current default value), which uses the default pickle module implicitly. It is possible to construct malicious pickle data which will execute arbitrary code during unpickling (See https://github.com/pytorch/pytorch/blob/main/SECURITY.md#untrusted-models for more details). In a future release, the default value for `weights_only` will be flipped to `True`. This limits the functions that could be executed during unpickling. Arbitrary objects will no longer be allowed to be loaded via this mode unless they are explicitly allowlisted by the user via `torch.serialization.add_safe_globals`. We recommend you start setting `weights_only=True` for any use case where you don't have full control of the loaded file. Please open an issue on GitHub for any issues related to this experimental feature.\n",
      "  model.load_state_dict(torch.load(Path(\"models/gpt2/final/model_final_20241013_1200.pt\"), map_location=torch.device('cpu')))\n"
     ]
    }
   ],
   "source": [
    "model.load_state_dict(torch.load(Path(\"models/gpt2/final/model_final_20241013_1200.pt\"), map_location=torch.device('cpu')))\n",
    "model.to(device);"
   ]
  },
  {
   "cell_type": "code",
   "execution_count": 26,
   "metadata": {},
   "outputs": [
    {
     "name": "stderr",
     "output_type": "stream",
     "text": [
      "Setting `pad_token_id` to `eos_token_id`:None for open-end generation.\n",
      "Setting `pad_token_id` to `eos_token_id`:None for open-end generation.\n"
     ]
    },
    {
     "name": "stdout",
     "output_type": "stream",
     "text": [
      " The boy is our last hope.  <BOT>  I'm going to need him.\n",
      "  <BOT>  You're going to need him.\n",
      " \n"
     ]
    },
    {
     "name": "stderr",
     "output_type": "stream",
     "text": [
      "Setting `pad_token_id` to `eos_token_id`:None for open-end generation.\n"
     ]
    },
    {
     "name": "stdout",
     "output_type": "stream",
     "text": [
      " What are you going to do. bleed on me?  <BOT>  I'm going to bleed on you.\n",
      " \n",
      " Son of a building block, it's Woody!  <BOT>  What's that?\n",
      "  <BOT>  It's the building that houses the museum.\n",
      " \n"
     ]
    }
   ],
   "source": [
    "inference(model, tokenizer, device, \"The boy is our last hope.\") # Star Wars\n",
    "inference(model, tokenizer, device, \"What are you going to do. bleed on me?\") # Holy Grail\n",
    "inference(model, tokenizer, device, \"Son of a building block, it's Woody!\") # Toy Story"
   ]
  },
  {
   "cell_type": "code",
   "execution_count": 28,
   "metadata": {},
   "outputs": [
    {
     "name": "stderr",
     "output_type": "stream",
     "text": [
      "Setting `pad_token_id` to `eos_token_id`:None for open-end generation.\n"
     ]
    },
    {
     "name": "stdout",
     "output_type": "stream",
     "text": [
      " Hello how are you?  <BOT>  I'm sorry I woke you up.\n",
      " \n"
     ]
    }
   ],
   "source": [
    "chat_with_model(model, tokenizer, device)"
   ]
  }
 ],
 "metadata": {
  "kernelspec": {
   "display_name": "venv",
   "language": "python",
   "name": "python3"
  },
  "language_info": {
   "codemirror_mode": {
    "name": "ipython",
    "version": 3
   },
   "file_extension": ".py",
   "mimetype": "text/x-python",
   "name": "python",
   "nbconvert_exporter": "python",
   "pygments_lexer": "ipython3",
   "version": "3.10.11"
  }
 },
 "nbformat": 4,
 "nbformat_minor": 2
}
