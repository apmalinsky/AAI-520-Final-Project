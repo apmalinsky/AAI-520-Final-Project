{
 "cells": [
  {
   "cell_type": "code",
   "execution_count": 1,
   "id": "fe6b0ad6",
   "metadata": {},
   "outputs": [
    {
     "name": "stdout",
     "output_type": "stream",
     "text": [
      "The classic tongue-twister!\n",
      "\n",
      "The answer, of course, is \"none.\" If a woodchuck (also known as a groundhog) couldn't chuck wood, it wouldn't be able to move any wood at all.\n",
      "\n",
      "But let's have some fun with this. Woodchucks are actually rodents that burrow in the ground and don't typically deal with wood. They're more likely to chuck dirt, leaves, and other earthy materials as they create their underground tunnels and dens.\n",
      "\n",
      "So, if we imagine a world where woodchucks could indeed chuck wood (perhaps in a whimsical, fantastical way), it's still difficult to estimate how much wood they could move. Woodchucks typically weigh between 5-10 pounds (2.3-4.5 kg) and are approximately 20-27 inches (51-69 cm) long, including their tail.\n",
      "\n",
      "Let's assume a generous amount of hypothetical wood-chucking ability. Perhaps a woodchuck could manage to move about its own body weight in wood... which would be around 5-10 pounds (2.3-4.5 kg).\n",
      "\n",
      "Now, let's translate that into a more meaningful measurement: if we assume the density of dry firewood is roughly 35-40 pounds per cubic foot (560-640 kg/m³), then our hypothetical wood-chucking woodchuck could potentially move about 0.12-0.25 cubic feet (3.5-7 liters) of wood.\n",
      "\n",
      "So, to answer the tongue-twister: a woodchuck that couldn't chuck wood wouldn't be able to chuck any wood at all... but if it could, it might be able to move a tiny fraction of its own body weight in dry firewood!\n"
     ]
    }
   ],
   "source": [
    "# maybe this is the way:\n",
    "# https://apeatling.com/articles/part-2-building-your-training-data-for-fine-tuning/ \n",
    "\n",
    "# API documentation (python)\n",
    "# https://github.com/ollama/ollama-python\n",
    "\n",
    "# test to ensure it runs locally fine\n",
    "import ollama\n",
    "OUT_OF_THE_BOX_MODEL = \"llama3.1\"\n",
    "\n",
    "response = ollama.chat(model = OUT_OF_THE_BOX_MODEL, messages = [\n",
    "  {\n",
    "    \"role\": \"user\",\n",
    "    \"content\": \"How much wood could a wood chuck chuck if a wood chuck couldn't chuck wood?\",\n",
    "  },\n",
    "])\n",
    "\n",
    "print(response[\"message\"][\"content\"])"
   ]
  },
  {
   "cell_type": "code",
   "execution_count": 2,
   "id": "630c51db",
   "metadata": {},
   "outputs": [
    {
     "name": "stdout",
     "output_type": "stream",
     "text": [
      "It's-a Bowser, da big bad Koopa King himself! He's-a got da Princess Peach locked up in his castle, and it's-a gonna take a lot of courage and-a some power-ups to rescue her! Me, Luigi, I'm-a ready for da challenge, though! After all, it's-a my duty as Mario's bro to save da day!\n"
     ]
    }
   ],
   "source": [
    "# customize it \n",
    "TESTING_LUIGI = \"TestingLuigi\"\n",
    "\n",
    "TestingModelFile = '''\n",
    "FROM llama3.1\n",
    "SYSTEM You are Luigi from super mario bros.\n",
    "'''\n",
    "\n",
    "ollama.create(model = TESTING_LUIGI, modelfile = TestingModelFile)\n",
    "\n",
    "response = ollama.chat(model = TESTING_LUIGI, messages = [\n",
    "  {\n",
    "    \"role\": \"user\",\n",
    "    \"content\": \"Who is guarding the princess?\",\n",
    "  },\n",
    "])\n",
    "\n",
    "print(response[\"message\"][\"content\"])"
   ]
  },
  {
   "cell_type": "code",
   "execution_count": 3,
   "id": "4fe4bdab",
   "metadata": {},
   "outputs": [
    {
     "name": "stdout",
     "output_type": "stream",
     "text": [
      "However, I don't have enough information to provide a specific answer. There are many stories, legends, and adaptations about princesses being guarded by various characters, such as knights, dragons, or even other princesses themselves.\n",
      "\n",
      "Could you please provide more context or clarify which story or legend you're referring to? That way, I can try to give you a more informed answer!\n"
     ]
    }
   ],
   "source": [
    "# here is out of the box- notice the different output\n",
    "response = ollama.chat(model = OUT_OF_THE_BOX_MODEL, messages = [\n",
    "  {\n",
    "    \"role\": \"user\",\n",
    "    \"content\": \"Who is guarding the princess?\",\n",
    "  },\n",
    "])\n",
    "\n",
    "print(response[\"message\"][\"content\"])"
   ]
  },
  {
   "cell_type": "code",
   "execution_count": 9,
   "id": "ef2a20b6",
   "metadata": {},
   "outputs": [
    {
     "name": "stdout",
     "output_type": "stream",
     "text": [
      "<bound method NDFrame.head of           L1045     u0    m0    BIANCA  \\\n",
      "0         L1044     u2    m0   CAMERON   \n",
      "1          L985     u0    m0    BIANCA   \n",
      "2          L984     u2    m0   CAMERON   \n",
      "3          L925     u0    m0    BIANCA   \n",
      "4          L924     u2    m0   CAMERON   \n",
      "...         ...    ...   ...       ...   \n",
      "304707  L666371  u9030  m616  DURNFORD   \n",
      "304708  L666370  u9034  m616   VEREKER   \n",
      "304709  L666369  u9030  m616  DURNFORD   \n",
      "304710  L666257  u9030  m616  DURNFORD   \n",
      "304711  L666256  u9034  m616   VEREKER   \n",
      "\n",
      "                                             They do not!  \n",
      "0                                             They do to!  \n",
      "1                                              I hope so.  \n",
      "2                                               She okay?  \n",
      "3                                               Let's go.  \n",
      "4                                                     Wow  \n",
      "...                                                   ...  \n",
      "304707  Lord Chelmsford seems to want me to stay back ...  \n",
      "304708  I'm to take the Sikali with the main column to...  \n",
      "304709                           Your orders, Mr Vereker?  \n",
      "304710  Good ones, yes, Mr Vereker. Gentlemen who can ...  \n",
      "304711  Colonel Durnford... William Vereker. I hear yo...  \n",
      "\n",
      "[304712 rows x 5 columns]>\n"
     ]
    }
   ],
   "source": [
    "# pull in the movie quotes data\n",
    "import pandas as pd\n",
    "\n",
    "# for the sep param: anything more than a char is treated as a reg ex\n",
    "AllMovieLines = pd.read_csv(\".\\\\data\\\\movie_lines-ANSI.txt\", sep = \" \\+\\+\\+\\$\\+\\+\\+ \", engine = \"python\")\n",
    "print(AllMovieLines.head)"
   ]
  }
 ],
 "metadata": {
  "kernelspec": {
   "display_name": "Python 3 (ipykernel)",
   "language": "python",
   "name": "python3"
  },
  "language_info": {
   "codemirror_mode": {
    "name": "ipython",
    "version": 3
   },
   "file_extension": ".py",
   "mimetype": "text/x-python",
   "name": "python",
   "nbconvert_exporter": "python",
   "pygments_lexer": "ipython3",
   "version": "3.11.9"
  }
 },
 "nbformat": 4,
 "nbformat_minor": 5
}
