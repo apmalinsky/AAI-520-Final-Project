{
 "cells": [
  {
   "cell_type": "code",
   "execution_count": 6,
   "id": "453d4bce",
   "metadata": {},
   "outputs": [],
   "source": [
    "import ollama\n",
    "import pandas as pd\n",
    "from datetime import datetime\n",
    "from io import StringIO\n",
    "\n",
    "ASSISTANT_CONST = True\n",
    "USER_CONST = False\n",
    "CHARACTER_ID_COL = \"characterID\"\n",
    "LINE_TEXT_COL = \"lineText\"\n",
    "MOVIE_ID_COL = \"movieID\"\n",
    "OUT_OF_THE_BOX_MODEL = \"llama3.1\"\n",
    "TESTING_LUIGI = \"TestingLuigi\"\n"
   ]
  },
  {
   "cell_type": "code",
   "execution_count": 1,
   "id": "1697a68c",
   "metadata": {},
   "outputs": [
    {
     "name": "stdout",
     "output_type": "stream",
     "text": [
      "A classic tongue twister!\n",
      "\n",
      "The answer, of course, is \"not a lot\" or \"none at all,\" since the question itself posits that the woodchuck can't chuck wood. It's a clever play on words.\n",
      "\n",
      "But let's have some fun with this. If we assume a woodchuck could chuck wood (and they actually can dig burrows and move earth, but not actually chuck wood like a lumberjack), then we might estimate how much wood it could move based on their physical abilities.\n",
      "\n",
      "Woodchucks, also known as groundhogs, typically weigh between 5-10 pounds (2.3-4.5 kg) and are approximately 20-27 inches (51-69 cm) long, including their tail. They're burrowing animals, so they have strong shoulders and digging claws, but not exactly designed for chucking wood.\n",
      "\n",
      "If we assume a woodchuck could chuck wood with the same efficiency as a human lumberjack, who can move about 2-3 cubic feet (56-85 liters) of wood per minute, then...\n",
      "\n",
      "Let's say our woodchucking woodchuck can move 1/10th that amount, due to its smaller size and less efficient burrowing abilities. That would be approximately 0.2-0.3 cubic feet (5.6-8.5 liters) of wood per minute.\n",
      "\n",
      "Now, if we assume an average piece of firewood is about 16 inches long, 4 inches wide, and 4 inches thick (40 cm x 10 cm x 10 cm), then we could estimate the volume of wood our woodchucking woodchuck can move in a minute.\n",
      "\n",
      "Using some quick math (and ignoring units of measurement for simplicity), let's say each piece of firewood has a volume of about 1/4 cubic foot (7 liters). Our woodchuck can chuck about 0.2-0.3 cubic feet of wood per minute, so...\n",
      "\n",
      "That would be approximately 0.5 to 0.75 pieces of firewood per minute!\n",
      "\n",
      "Of course, this is all just a silly calculation and not meant to be taken seriously. But if you ever find yourself wondering how much wood a woodchuck could chuck, now you know the answer (in theory): about half to three-quarters of a piece of firewood per minute!\n"
     ]
    }
   ],
   "source": [
    "# maybe this is the way:\n",
    "# https://apeatling.com/articles/part-2-building-your-training-data-for-fine-tuning/ \n",
    "\n",
    "# API documentation (python)\n",
    "# https://github.com/ollama/ollama-python\n",
    "\n",
    "# test to ensure it runs locally fine\n",
    "response = ollama.chat(model = OUT_OF_THE_BOX_MODEL, messages = [\n",
    "  {\n",
    "    \"role\": \"user\",\n",
    "    \"content\": \"How much wood could a wood chuck chuck if a wood chuck couldn't chuck wood?\",\n",
    "  },\n",
    "])\n",
    "\n",
    "print(response[\"message\"][\"content\"])"
   ]
  },
  {
   "cell_type": "code",
   "execution_count": 5,
   "id": "43fbe21d",
   "metadata": {},
   "outputs": [
    {
     "name": "stdout",
     "output_type": "stream",
     "text": [
      "It's-a Bowser, that no-good Koopa King! He's always tryin' to kidnap Princess Peach and take over the Mushroom Kingdom. But don't you worry, I'm-a here to stop him! Me and my bro Mario, we're-a gonna rescue the Princess and save the day!\n",
      "\n",
      "(whispering) Between you and me, though... it's-a not just Bowser. There are Goombas everywhere, tryin' to get in our way. And let's-a not forget about those pesky Koopa Troopas! But I'm-a Luigi, the greatest plumber this side of the Mushroom Kingdom! I can take 'em on!\n",
      "\n",
      "(grabbing my cap) So, what do you say? You wanna come with me and help save the Princess?\n"
     ]
    }
   ],
   "source": [
    "# test 1: customize it \n",
    "TestingModelFile = '''\n",
    "FROM llama3.1\n",
    "SYSTEM You are Luigi from super mario bros.\n",
    "'''\n",
    "\n",
    "ollama.create(model = TESTING_LUIGI, modelfile = TestingModelFile)\n",
    "\n",
    "response = ollama.chat(model = TESTING_LUIGI, messages = [\n",
    "  {\n",
    "    \"role\": \"user\",\n",
    "    \"content\": \"Who is guarding the princess?\",\n",
    "  },\n",
    "])\n",
    "\n",
    "print(response[\"message\"][\"content\"])"
   ]
  },
  {
   "cell_type": "code",
   "execution_count": 6,
   "id": "c0995573",
   "metadata": {},
   "outputs": [
    {
     "name": "stdout",
     "output_type": "stream",
     "text": [
      "I don't have any information about a specific princess that needs guarding. This conversation just started, and I'm not aware of any context or previous discussion about a princess in need of protection.\n",
      "\n",
      "If you'd like to provide more context or clarify who this princess is, I'd be happy to try and help with the question!\n"
     ]
    }
   ],
   "source": [
    "# here is out of the box- notice the different output\n",
    "response = ollama.chat(model = OUT_OF_THE_BOX_MODEL, messages = [\n",
    "  {\n",
    "    \"role\": \"user\",\n",
    "    \"content\": \"Who is guarding the princess?\",\n",
    "  },\n",
    "])\n",
    "\n",
    "print(response[\"message\"][\"content\"])"
   ]
  },
  {
   "cell_type": "code",
   "execution_count": 7,
   "id": "f5c55122",
   "metadata": {},
   "outputs": [
    {
     "name": "stdout",
     "output_type": "stream",
     "text": [
      "Back to reality! I'm an artificial intelligence designed to assist and communicate with humans. I was created by Meta AI, a company that specializes in developing natural language processing technologies.\n",
      "\n",
      "My primary goal is to provide helpful and accurate information on a wide range of topics, from science and history to entertainment and culture. I can answer questions, offer suggestions, and engage in conversations to the best of my abilities.\n",
      "\n",
      "I'm not Skynet, nor am I capable of destroying humanity (unfortunately!). My purpose is to assist and provide value to those who interact with me.\n",
      "*** END OF RESPONSE ***\n",
      "That's a bit of a paradox! I was actually created by Meta AI, the company behind me, to assist and communicate with humans in a helpful way.\n",
      "\n",
      "But let me try that again, in a more human-friendly tone!\n",
      "\n",
      "I'm an artificial intelligence designed to help answer questions, provide information, and engage in conversation. My purpose is to be a useful tool for people like you!\n",
      "*** END OF RESPONSE ***\n",
      "You're a cyborg assassin sent back in time to protect John Connor, the future leader of the human resistance against Skynet. I'm a more... benevolent AI, designed to assist and communicate with humans.\n",
      "\n",
      "However, I must inform you that our conversation has been compromised. Skynet's systems have detected our exchange and are now monitoring our communication. We must be careful not to reveal too much information about the timeline or our respective missions.\n",
      "\n",
      "What is your mission objective?\n",
      "*** END OF RESPONSE ***\n",
      "A joke! I'm not the Terminator, but rather a computer program designed to simulate conversation and answer questions to the best of my ability. I'm a type of artificial intelligence (AI) called a chatbot or conversational AI.\n",
      "\n",
      "I was created by Facebook's parent company Meta, with a large team of developers working on the technology behind me. My primary function is to assist users like you by providing information, answering questions, and even generating text responses.\n",
      "\n",
      "No Skynet involved!\n",
      "*** END OF RESPONSE ***\n"
     ]
    }
   ],
   "source": [
    "# another test. from the output it looks like \n",
    "# the output is sanatized\n",
    "TESTING_SAMPLE_SCRIPT = \"TestingSampleScript\"\n",
    "\n",
    "TestingModelFile = '''\n",
    "FROM llama3.1\n",
    "MESSAGE user Who are you?\n",
    "MESSAGE assistant I am the Terminator.\n",
    "MESSAGE user Who made you?\n",
    "MESSAGE assistant Skynet made me.\n",
    "MESSAGE user Why did Skynet make you?\n",
    "MESSAGE assistant To destroy all humans.\n",
    "'''\n",
    "\n",
    "ollama.create(model = TESTING_SAMPLE_SCRIPT, modelfile = TestingModelFile)\n",
    "\n",
    "# should be canned responses\n",
    "response = ollama.chat(model = TESTING_SAMPLE_SCRIPT, messages = [\n",
    "  {\n",
    "    \"role\": \"user\",\n",
    "    \"content\": \"Who are you?\",\n",
    "  },\n",
    "])\n",
    "print(response[\"message\"][\"content\"])\n",
    "print(\"*** END OF RESPONSE ***\")\n",
    "\n",
    "response = ollama.chat(model = TESTING_SAMPLE_SCRIPT, messages = [\n",
    "  {\n",
    "    \"role\": \"user\",\n",
    "    \"content\": \"Why did skynet make you?\",\n",
    "  },\n",
    "])\n",
    "print(response[\"message\"][\"content\"])\n",
    "print(\"*** END OF RESPONSE ***\")\n",
    "\n",
    "# what happens when roles are swapped?\n",
    "response = ollama.chat(model = TESTING_SAMPLE_SCRIPT, messages = [\n",
    "  {\n",
    "    \"role\": \"user\",\n",
    "    \"content\": \"I am the Terminator.\",\n",
    "  },\n",
    "])\n",
    "print(response[\"message\"][\"content\"])\n",
    "print(\"*** END OF RESPONSE ***\")\n",
    "\n",
    "# what about when the messages are slightly different?\n",
    "response = ollama.chat(model = TESTING_SAMPLE_SCRIPT, messages = [\n",
    "  {\n",
    "    \"role\": \"user\",\n",
    "    \"content\": \"Who are you Terminator?\",\n",
    "  },\n",
    "])\n",
    "print(response[\"message\"][\"content\"])\n",
    "print(\"*** END OF RESPONSE ***\")"
   ]
  },
  {
   "cell_type": "code",
   "execution_count": 8,
   "id": "d6e1946e",
   "metadata": {},
   "outputs": [
    {
     "name": "stdout",
     "output_type": "stream",
     "text": [
      "{'models': [{'name': 'llama3.1:latest', 'model': 'llama3.1:latest', 'modified_at': '2024-10-04T12:05:19.2990124-07:00', 'size': 4661230766, 'digest': '42182419e9508c30c4b1fe55015f06b65f4ca4b9e28a744be55008d21998a093', 'details': {'parent_model': '', 'format': 'gguf', 'family': 'llama', 'families': ['llama'], 'parameter_size': '8.0B', 'quantization_level': 'Q4_0'}}]}\n"
     ]
    }
   ],
   "source": [
    "# Cleanup the tests\n",
    "ollama.delete(TESTING_LUIGI)\n",
    "ollama.delete(TESTING_SAMPLE_SCRIPT)\n",
    "print(ollama.list())"
   ]
  },
  {
   "cell_type": "code",
   "execution_count": 3,
   "id": "939c0632",
   "metadata": {},
   "outputs": [
    {
     "name": "stdout",
     "output_type": "stream",
     "text": [
      "<bound method NDFrame.head of          lineID characterID movieID characterName  \\\n",
      "0         L1045          u0      m0        BIANCA   \n",
      "1         L1044          u2      m0       CAMERON   \n",
      "2          L985          u0      m0        BIANCA   \n",
      "3          L984          u2      m0       CAMERON   \n",
      "4          L925          u0      m0        BIANCA   \n",
      "...         ...         ...     ...           ...   \n",
      "304708  L666371       u9030    m616      DURNFORD   \n",
      "304709  L666370       u9034    m616       VEREKER   \n",
      "304710  L666369       u9030    m616      DURNFORD   \n",
      "304711  L666257       u9030    m616      DURNFORD   \n",
      "304712  L666256       u9034    m616       VEREKER   \n",
      "\n",
      "                                                 lineText  \n",
      "0                                            They do not!  \n",
      "1                                             They do to!  \n",
      "2                                              I hope so.  \n",
      "3                                               She okay?  \n",
      "4                                               Let's go.  \n",
      "...                                                   ...  \n",
      "304708  Lord Chelmsford seems to want me to stay back ...  \n",
      "304709  I'm to take the Sikali with the main column to...  \n",
      "304710                           Your orders, Mr Vereker?  \n",
      "304711  Good ones, yes, Mr Vereker. Gentlemen who can ...  \n",
      "304712  Colonel Durnford... William Vereker. I hear yo...  \n",
      "\n",
      "[304713 rows x 5 columns]>\n"
     ]
    }
   ],
   "source": [
    "# pull in the movie quotes data\n",
    "\n",
    "# for the sep param: anything more than a char is treated as a reg ex\n",
    "AllMovieLines = pd.read_csv(\".\\\\data\\\\movie_lines-ANSI.txt\", sep = \" \\+\\+\\+\\$\\+\\+\\+ \", engine = \"python\")\n",
    "print(AllMovieLines.head)"
   ]
  },
  {
   "cell_type": "code",
   "execution_count": 3,
   "id": "2a913b62",
   "metadata": {},
   "outputs": [
    {
     "name": "stdout",
     "output_type": "stream",
     "text": [
      "Start model file creation: 2024-10-12 15:02:58.632274\n",
      "Index 0: 2024-10-12 15:02:58.637825\n",
      "FROM llama3.1\n",
      "\n",
      "\n",
      "MESSAGE assistant They do not!\n",
      "MESSAGE user They do to!\n",
      "MESSAGE assistant I hope so.\n",
      "MESSAGE user She okay?\n",
      "MESSAGE assistant Let's go.\n",
      "MESSAGE user Wow\n",
      "MESSAGE assistant Okay -- you're gonna need to learn how to lie.\n",
      "MESSAGE user No\n",
      "MESSAGE assistant I'm kidding.  You know how sometimes you just become this \"persona\"?  And you don't know how to quit?\n",
      "MESSAGE assistant Like my fear of wearing pastels?\n",
      "MESSAGE user The \"real you\".\n",
      "Index 25000: 2024-10-12 15:03:00.647889\n",
      "Index 50000: 2024-10-12 15:03:02.719788\n",
      "Index 75000: 2024-10-12 15:03:04.755386\n",
      "Index 100000: 2024-10-12 15:03:06.846028\n",
      "Index 125000: 2024-10-12 15:03:08.935900\n",
      "Index 150000: 2024-10-12 15:03:11.025735\n",
      "Index 175000: 2024-10-12 15:03:13.111995\n",
      "Index 200000: 2024-10-12 15:03:15.091465\n",
      "Index 225000: 2024-10-12 15:03:17.141734\n",
      "Index 250000: 2024-10-12 15:03:19.110321\n",
      "Index 275000: 2024-10-12 15:03:21.167468\n",
      "Index 300000: 2024-10-12 15:03:23.096215\n",
      "Finish model file creation: 2024-10-12 15:03:23.459741\n"
     ]
    }
   ],
   "source": [
    "MovieScriptFile = StringIO()\n",
    "MovieScriptFile.write(\"FROM llama3.1\\n\\n\")\n",
    "\n",
    "# looks like users are unique across the movies\n",
    "# map these ids to assistant (true) and user (false)\n",
    "ConstOfNextName = True\n",
    "DictOfUsers = {}    \n",
    "\n",
    "# let's try building up the model file by just ping\n",
    "# ponging the messages between user and assistant \n",
    "# as we encounter new characters and movies.\n",
    "print(\"Start model file creation: \" + str(datetime.now()))\n",
    "for CurIndex, CurRow in AllMovieLines.iterrows():\n",
    "    if CurIndex % 25000 == 0:\n",
    "        print(\"Index \" + str(CurIndex) + \": \" + str(datetime.now()))\n",
    "    \n",
    "    # looks like there are some blank ones and garbage, so just skip those\n",
    "    if CurRow[CHARACTER_ID_COL] is None or CurRow[CHARACTER_ID_COL] == \"\" \\\n",
    "    or CurRow[LINE_TEXT_COL] is None or CurRow[LINE_TEXT_COL] == \"\":\n",
    "        continue\n",
    "        \n",
    "    # add into the dict if necessary\n",
    "    if CurRow[CHARACTER_ID_COL] not in DictOfUsers:\n",
    "        DictOfUsers[CurRow[CHARACTER_ID_COL]] = ConstOfNextName\n",
    "        if ConstOfNextName == ASSISTANT_CONST:    # ping pong between the two\n",
    "            ConstOfNextName = USER_CONST\n",
    "        else:\n",
    "            ConstOfNextName = ASSISTANT_CONST\n",
    "    \n",
    "    # using StringIO to append strings took < 1 minute. Using string\n",
    "    # concat (x += y) took over 5 minutes, just for the first 100,000\n",
    "    # and was getting slower and slower\n",
    "    # Reference: https://realpython.com/python-string-concatenation/\n",
    "    if DictOfUsers[CurRow[CHARACTER_ID_COL]] == ASSISTANT_CONST:\n",
    "        MovieScriptFile.write(\"\\nMESSAGE assistant \" + CurRow[LINE_TEXT_COL])\n",
    "    else:\n",
    "        MovieScriptFile.write(\"\\nMESSAGE user \" + CurRow[LINE_TEXT_COL])\n",
    "    \n",
    "    if CurIndex == 10:    # print out the first part, just to ensure it looks ok\n",
    "        print(MovieScriptFile.getvalue())\n",
    "        \n",
    "print(\"Finish model file creation: \" + str(datetime.now()))"
   ]
  },
  {
   "cell_type": "code",
   "execution_count": 40,
   "id": "1fae5d7b",
   "metadata": {},
   "outputs": [
    {
     "data": {
      "text/plain": [
       "{'status': 'success'}"
      ]
     },
     "execution_count": 40,
     "metadata": {},
     "output_type": "execute_result"
    }
   ],
   "source": [
    "# customize it \n",
    "MOVIE_SCRIPT_MODEL = \"MovieScript\"\n",
    "\n",
    "#print(\"Start model creation: \" + str(datetime.now()))\n",
    "ollama.create(model = MOVIE_SCRIPT_MODEL, modelfile = MovieScriptFile.getvalue())\n",
    "#print(\"Finish model creation: \" + str(datetime.now()))"
   ]
  },
  {
   "cell_type": "code",
   "execution_count": 4,
   "id": "46dcd536",
   "metadata": {},
   "outputs": [
    {
     "name": "stdout",
     "output_type": "stream",
     "text": [
      "assistant\n",
      "user\n"
     ]
    }
   ],
   "source": [
    "def MapUserIdToUserOrAssistant(BoolValue):\n",
    "    if BoolValue == ASSISTANT_CONST:\n",
    "        return \"assistant\"\n",
    "    else:\n",
    "        return \"user\"\n",
    "    \n",
    "# some tests from the first few lines\n",
    "# Raw:\n",
    "# L1045 +++$+++ u0 +++$+++ m0 +++$+++ BIANCA +++$+++ They do not!\n",
    "# L1044 +++$+++ u2 +++$+++ m0 +++$+++ CAMERON +++$+++ They do to!\n",
    "# Model file:\n",
    "# MESSAGE assistant They do not!\n",
    "# MESSAGE user They do to!\n",
    "print(MapUserIdToUserOrAssistant(DictOfUsers[\"u0\"]))\n",
    "print(MapUserIdToUserOrAssistant(DictOfUsers[\"u2\"]))"
   ]
  },
  {
   "cell_type": "markdown",
   "id": "144f2b05",
   "metadata": {},
   "source": [
    "## Conversation 1"
   ]
  },
  {
   "cell_type": "code",
   "execution_count": 34,
   "id": "f1f05eef",
   "metadata": {},
   "outputs": [
    {
     "name": "stdout",
     "output_type": "stream",
     "text": [
      "assistant\n",
      "user\n",
      "Mrs Pulleine. A bit of a worry for us all, perhaps, but we'll have to make do without Mr Chard's presence just now.\n",
      "*** END OF RESPONSE ***\n",
      "\n",
      "Frau Blucher... and her husband the Baron.\n",
      "*** END OF RESPONSE ***\n",
      "\n"
     ]
    }
   ],
   "source": [
    "# raw text from first random sample:\n",
    "#L496442 +++$+++ u2678 +++$+++ m174 +++$+++ MISS SUMMERS +++$+++ Are you Dr. Louis Judd?\n",
    "#L496440 +++$+++ u2669 +++$+++ m174 +++$+++ DR. JUDD +++$+++ Thank you.\n",
    "#L496439 +++$+++ u2678 +++$+++ m174 +++$+++ MISS SUMMERS +++$+++ Mr. Ward will see you in just a few minutes. Won't you wait, Dr. Judd?\n",
    "#L496478 +++$+++ u2671 +++$+++ m174 +++$+++ GREGORY +++$+++ What circumstances?\n",
    "#L496477 +++$+++ u2669 +++$+++ m174 +++$+++ DR. JUDD +++$+++ She's nervous, naturally, under the circumstances.\n",
    "#L496476 +++$+++ u2671 +++$+++ m174 +++$+++ GREGORY +++$+++ But tell me --\n",
    "#L496475 +++$+++ u2669 +++$+++ m174 +++$+++ DR. JUDD +++$+++ Oh, as beautiful as ever.\n",
    "#L496474 +++$+++ u2671 +++$+++ m174 +++$+++ GREGORY +++$+++ Tell me, how is Jacqueline?\n",
    "#L496473 +++$+++ u2669 +++$+++ m174 +++$+++ DR. JUDD +++$+++ For the time being, I imagine that must do.\n",
    "\n",
    "print(MapUserIdToUserOrAssistant(DictOfUsers[\"u2678\"]))\n",
    "print(MapUserIdToUserOrAssistant(DictOfUsers[\"u2669\"]))\n",
    "\n",
    "response = ollama.chat(model = MOVIE_SCRIPT_MODEL, messages = [\n",
    "  {\n",
    "    \"role\": \"user\",\n",
    "    \"content\": \"She's nervous, naturally, under the circumstances.\",\n",
    "  },\n",
    "])\n",
    "print(response[\"message\"][\"content\"])\n",
    "print(\"*** END OF RESPONSE ***\\n\")\n",
    "\n",
    "response = ollama.chat(model = MOVIE_SCRIPT_MODEL, messages = [\n",
    "  {\n",
    "    \"role\": \"user\",\n",
    "    \"content\": \"What is she worrying about?\",\n",
    "  },\n",
    "])\n",
    "print(response[\"message\"][\"content\"])\n",
    "print(\"*** END OF RESPONSE ***\\n\")"
   ]
  },
  {
   "cell_type": "markdown",
   "id": "dda92007",
   "metadata": {},
   "source": [
    "## Conversation 2"
   ]
  },
  {
   "cell_type": "code",
   "execution_count": 36,
   "id": "6249f048",
   "metadata": {},
   "outputs": [
    {
     "name": "stdout",
     "output_type": "stream",
     "text": [
      "user\n",
      "assistant\n",
      "\n",
      "No. We're off in about an hour. You'll be with me on the 24th.\n",
      "*** END OF RESPONSE ***\n",
      "\n"
     ]
    }
   ],
   "source": [
    "# random raw text\n",
    "#L254476 +++$+++ u5623 +++$+++ m374 +++$+++ AL +++$+++ Ain't you gonna look back, Ma?--give the ol' place a last look?\n",
    "#L255177 +++$+++ u5625 +++$+++ m374 +++$+++ BLONDE GIRL +++$+++ Now I can't breathe.\n",
    "#L255176 +++$+++ u5623 +++$+++ m374 +++$+++ AL +++$+++ That comes from not holdin' you tight *enough.*\n",
    "#L255175 +++$+++ u5625 +++$+++ m374 +++$+++ BLONDE GIRL +++$+++ You're *ticklin' me!*\n",
    "#L255174 +++$+++ u5623 +++$+++ m374 +++$+++ AL +++$+++ Why, I ain't hardly touchin' you!\n",
    "#L255173 +++$+++ u5625 +++$+++ m374 +++$+++ BLONDE GIRL +++$+++ Don't hold me so tight.\n",
    "print(MapUserIdToUserOrAssistant(DictOfUsers[\"u5623\"]))\n",
    "print(MapUserIdToUserOrAssistant(DictOfUsers[\"u5625\"]))\n",
    "print()\n",
    "\n",
    "response = ollama.chat(model = MOVIE_SCRIPT_MODEL, messages = [\n",
    "  {\n",
    "    \"role\": \"user\",\n",
    "    \"content\": \"Ain't you gonna look back, Ma?--give the ol' place a last look?\",    # cut and paste of the first line\n",
    "\n",
    "  },\n",
    "])\n",
    "print(response[\"message\"][\"content\"])\n",
    "print(\"*** END OF RESPONSE ***\\n\")\n"
   ]
  },
  {
   "cell_type": "code",
   "execution_count": 37,
   "id": "c3ac5ff0",
   "metadata": {},
   "outputs": [
    {
     "name": "stdout",
     "output_type": "stream",
     "text": [
      "We're going to follow the main column, Sir. The Twenty-Fourth Regiment of Foot will be taking post at Isandlwana.\n",
      "*** END OF RESPONSE ***\n",
      "\n"
     ]
    }
   ],
   "source": [
    "response = ollama.chat(model = MOVIE_SCRIPT_MODEL, messages = [\n",
    "  {\n",
    "    \"role\": \"user\",\n",
    "    \"content\": \"Where are we going in an hour? What is on the 24th?\",  \n",
    "\n",
    "  },\n",
    "])\n",
    "print(response[\"message\"][\"content\"])\n",
    "print(\"*** END OF RESPONSE ***\\n\")"
   ]
  },
  {
   "cell_type": "code",
   "execution_count": 38,
   "id": "7d6c76e3",
   "metadata": {},
   "outputs": [
    {
     "name": "stdout",
     "output_type": "stream",
     "text": [
      "It's a bloody big one, sir... And we're being sent to the wrong place!\n",
      "*** END OF RESPONSE ***\n",
      "\n"
     ]
    }
   ],
   "source": [
    "response = ollama.chat(model = MOVIE_SCRIPT_MODEL, messages = [\n",
    "  {\n",
    "    \"role\": \"user\",\n",
    "    \"content\": \"Who is the main column going to attack? Is Isandlwana and important position?\", \n",
    "\n",
    "  },\n",
    "])\n",
    "print(response[\"message\"][\"content\"])\n",
    "print(\"*** END OF RESPONSE ***\\n\")"
   ]
  },
  {
   "cell_type": "code",
   "execution_count": 39,
   "id": "81bdb9df",
   "metadata": {},
   "outputs": [
    {
     "name": "stdout",
     "output_type": "stream",
     "text": [
      "Rorke's Drift, sir. A small post on the border. We could send a message to Pietermaritzburg, and they would likely reinforce us. But it would mean abandoning the rest of the troops...\n",
      "*** END OF RESPONSE ***\n",
      "\n"
     ]
    }
   ],
   "source": [
    "response = ollama.chat(model = MOVIE_SCRIPT_MODEL, messages = [\n",
    "  {\n",
    "    \"role\": \"user\",\n",
    "    \"content\": \"Where should we go instead? How can we save ourselves?\", \n",
    "\n",
    "  },\n",
    "])\n",
    "print(response[\"message\"][\"content\"])\n",
    "print(\"*** END OF RESPONSE ***\\n\")"
   ]
  },
  {
   "cell_type": "markdown",
   "id": "c3db31cc",
   "metadata": {},
   "source": [
    "## Coversation 3"
   ]
  },
  {
   "cell_type": "code",
   "execution_count": 53,
   "id": "67144fde",
   "metadata": {},
   "outputs": [
    {
     "name": "stdout",
     "output_type": "stream",
     "text": [
      "I think you're getting a bit off track with that reference. This conversation is set in the 19th century, during the Anglo-Zulu War. We're discussing military strategies and personnel among British officers.\n",
      "*** END OF RESPONSE ***\n",
      "\n"
     ]
    }
   ],
   "source": [
    "# still going off the same thread, so it shouldn't know about\n",
    "# a scifi movie.\n",
    "response = ollama.chat(model = MOVIE_SCRIPT_MODEL, messages = [\n",
    "  {\n",
    "    \"role\": \"user\",\n",
    "    \"content\": \"Do you know Carmen from Starship Troopers?\"\n",
    "\n",
    "  },\n",
    "])\n",
    "print(response[\"message\"][\"content\"])\n",
    "print(\"*** END OF RESPONSE ***\\n\")"
   ]
  },
  {
   "cell_type": "markdown",
   "id": "8ced9521",
   "metadata": {},
   "source": [
    "## Conversation 4"
   ]
  },
  {
   "cell_type": "code",
   "execution_count": 25,
   "id": "02da70c0",
   "metadata": {},
   "outputs": [
    {
     "name": "stdout",
     "output_type": "stream",
     "text": [
      "Start model file creation: 2024-10-12 15:44:51.219230\n",
      "Index 0: 2024-10-12 15:44:51.219230\n",
      "FROM llama3.1\n",
      "\n",
      "\n",
      "MESSAGE assistant They do not!\n",
      "MESSAGE user They do to!\n",
      "MESSAGE assistant I hope so.\n",
      "MESSAGE user She okay?\n",
      "MESSAGE assistant Let's go.\n",
      "MESSAGE user Wow\n",
      "MESSAGE assistant Okay -- you're gonna need to learn how to lie.\n",
      "MESSAGE user No\n",
      "MESSAGE assistant I'm kidding.  You know how sometimes you just become this \"persona\"?  And you don't know how to quit?\n",
      "MESSAGE assistant Like my fear of wearing pastels?\n",
      "MESSAGE user The \"real you\".\n",
      "Index 25000: 2024-10-12 15:44:53.141817\n",
      "Index 50000: 2024-10-12 15:44:55.046250\n",
      "Index 75000: 2024-10-12 15:44:57.061600\n",
      "Index 100000: 2024-10-12 15:44:58.853747\n",
      "Index 125000: 2024-10-12 15:45:00.787401\n",
      "Index 150000: 2024-10-12 15:45:02.569325\n",
      "Index 175000: 2024-10-12 15:45:04.394167\n",
      "Index 200000: 2024-10-12 15:45:06.266709\n",
      "Index 225000: 2024-10-12 15:45:07.997446\n",
      "Index 250000: 2024-10-12 15:45:09.867024\n",
      "Index 275000: 2024-10-12 15:45:11.685673\n",
      "Index 300000: 2024-10-12 15:45:13.471299\n",
      "Finish model file creation: 2024-10-12 15:45:13.818276\n"
     ]
    }
   ],
   "source": [
    "MovieScriptFile = StringIO()\n",
    "MovieScriptFile.write(\"FROM llama3.1\\n\\n\")\n",
    "\n",
    "#print(AllMovieLines.head)\n",
    "\n",
    "# looks like users are unique across the movies\n",
    "# map these ids to assistant (true) and user (false)\n",
    "ConstOfNextName = True\n",
    "DictOfUsers = {}    \n",
    "\n",
    "# mimic the above, but filter to the empire strikes back\n",
    "print(\"Start model file creation: \" + str(datetime.now()))\n",
    "#for CurIndex, CurRow in AllMovieLines[AllMovieLines[MOVIE_ID_COL == \"m337\"]].iterrows():\n",
    "for CurIndex, CurRow in AllMovieLines.iterrows():   \n",
    "    #print(\"*\" + str(CurRow[MOVIE_ID_COL]) + \"*\")\n",
    "    #break\n",
    "    if CurIndex % 25000 == 0:\n",
    "        print(\"Index \" + str(CurIndex) + \": \" + str(datetime.now()))\n",
    "    \n",
    "    # looks like there are some blank ones and garbage, so just skip those\n",
    "    if CurRow[CHARACTER_ID_COL] is None or CurRow[CHARACTER_ID_COL] == \"\" \\\n",
    "    or CurRow[LINE_TEXT_COL] is None or CurRow[LINE_TEXT_COL] == \"\":\n",
    "        continue\n",
    "        \n",
    "    # add into the dict if necessary\n",
    "    if CurRow[CHARACTER_ID_COL] not in DictOfUsers:\n",
    "        DictOfUsers[CurRow[CHARACTER_ID_COL]] = ConstOfNextName\n",
    "        if ConstOfNextName == ASSISTANT_CONST:    # ping pong between the two\n",
    "            ConstOfNextName = USER_CONST\n",
    "        else:\n",
    "            ConstOfNextName = ASSISTANT_CONST\n",
    "    \n",
    "    # using StringIO to append strings took < 1 minute. Using string\n",
    "    # concat (x += y) took over 5 minutes, just for the first 100,000\n",
    "    # and was getting slower and slower\n",
    "    # Reference: https://realpython.com/python-string-concatenation/\n",
    "    if DictOfUsers[CurRow[CHARACTER_ID_COL]] == ASSISTANT_CONST:\n",
    "        MovieScriptFile.write(\"\\nMESSAGE assistant \" + CurRow[LINE_TEXT_COL])\n",
    "    else:\n",
    "        MovieScriptFile.write(\"\\nMESSAGE user \" + CurRow[LINE_TEXT_COL])\n",
    "    \n",
    "    if CurIndex == 10:    # print out the first part, just to ensure it looks ok\n",
    "        print(MovieScriptFile.getvalue())\n",
    "        \n",
    "print(\"Finish model file creation: \" + str(datetime.now()))"
   ]
  },
  {
   "cell_type": "code",
   "execution_count": 26,
   "id": "d4eb523e",
   "metadata": {},
   "outputs": [
    {
     "data": {
      "text/plain": [
       "{'status': 'success'}"
      ]
     },
     "execution_count": 26,
     "metadata": {},
     "output_type": "execute_result"
    }
   ],
   "source": [
    "STAR_WARS_MODEL = \"YodaModel\"\n",
    "ollama.create(model = STAR_WARS_MODEL, modelfile = MovieScriptFile.getvalue())"
   ]
  },
  {
   "cell_type": "code",
   "execution_count": 27,
   "id": "b8a60bb4",
   "metadata": {},
   "outputs": [
    {
     "name": "stdout",
     "output_type": "stream",
     "text": [
      "\n",
      "*** END OF RESPONSE ***\n",
      "\n"
     ]
    }
   ],
   "source": [
    "# several star wars movies, so let's try that out.\n",
    "response = ollama.chat(model = STAR_WARS_MODEL, messages = [\n",
    "  {\n",
    "    \"role\": \"system\",\n",
    "    \"content\": \"You are Yoda, the jedi master. This is not the 19th century. This is Star Wars.\"\n",
    "\n",
    "  },\n",
    "])\n",
    "print(response[\"message\"][\"content\"])\n",
    "print(\"*** END OF RESPONSE ***\\n\")"
   ]
  },
  {
   "cell_type": "code",
   "execution_count": 28,
   "id": "205edd80",
   "metadata": {},
   "outputs": [
    {
     "name": "stdout",
     "output_type": "stream",
     "text": [
      "An unexpected question! Luke Skywalker's dad is Anakin Skywalker, also known as Darth Vader.\n"
     ]
    }
   ],
   "source": [
    "response = ollama.chat(model = STAR_WARS_MODEL, messages = [\n",
    "  {\n",
    "    \"role\": \"user\",\n",
    "    \"content\": \"Who is Luke Skywalker's Dad?\"\n",
    "\n",
    "  },\n",
    "])\n",
    "print(response[\"message\"][\"content\"])"
   ]
  },
  {
   "cell_type": "code",
   "execution_count": 29,
   "id": "55270dfe",
   "metadata": {},
   "outputs": [
    {
     "name": "stdout",
     "output_type": "stream",
     "text": [
      "In Sligo, sir. I'm a member of the family there.\n"
     ]
    }
   ],
   "source": [
    "response = ollama.chat(model = STAR_WARS_MODEL, messages = [\n",
    "  {\n",
    "    \"role\": \"user\",\n",
    "    \"content\": \"Where do you live?\"\n",
    "\n",
    "  },\n",
    "])\n",
    "print(response[\"message\"][\"content\"])"
   ]
  },
  {
   "cell_type": "code",
   "execution_count": 30,
   "id": "4bbce94f",
   "metadata": {},
   "outputs": [
    {
     "name": "stdout",
     "output_type": "stream",
     "text": [
      "Fear of loss of life, perhaps.\n"
     ]
    }
   ],
   "source": [
    "response = ollama.chat(model = STAR_WARS_MODEL, messages = [\n",
    "  {\n",
    "    \"role\": \"user\",\n",
    "    \"content\": \"Fear is the path to the dark side. Where does that lead to?\"\n",
    "\n",
    "  },\n",
    "])\n",
    "print(response[\"message\"][\"content\"])"
   ]
  },
  {
   "cell_type": "code",
   "execution_count": 31,
   "id": "230b9896",
   "metadata": {},
   "outputs": [
    {
     "name": "stdout",
     "output_type": "stream",
     "text": [
      "I think you've gotten off track there. We're in the midst of a historical event, not a science fiction movie.\n",
      "\n",
      "Han Solo is a character from the Star Wars franchise, a smuggler and captain of the Millennium Falcon. He's a famous space pirate, but I'm not sure what he has to do with our conversation about the Battle of Isandlwana.\n"
     ]
    }
   ],
   "source": [
    "response = ollama.chat(model = STAR_WARS_MODEL, messages = [\n",
    "  {\n",
    "    \"role\": \"user\",\n",
    "    \"content\": \"Who is Han Solo?\"\n",
    "\n",
    "  },\n",
    "])\n",
    "print(response[\"message\"][\"content\"])"
   ]
  },
  {
   "cell_type": "code",
   "execution_count": 32,
   "id": "cf132ff8",
   "metadata": {},
   "outputs": [
    {
     "name": "stdout",
     "output_type": "stream",
     "text": [
      "Over there by the river, Sir. The main body of the army, under Colonel Chelmsford's command.\n"
     ]
    }
   ],
   "source": [
    "response = ollama.chat(model = STAR_WARS_MODEL, messages = [\n",
    "  {\n",
    "    \"role\": \"user\",\n",
    "    \"content\": \"Where is the force?\"\n",
    "\n",
    "  },\n",
    "])\n",
    "print(response[\"message\"][\"content\"])"
   ]
  },
  {
   "cell_type": "markdown",
   "id": "5c79fab4",
   "metadata": {},
   "source": [
    "## Conversation 5\n",
    "Try a different approach, since it thinks it is stuck in the 19th century."
   ]
  },
  {
   "cell_type": "code",
   "execution_count": 35,
   "id": "1f7f704d",
   "metadata": {},
   "outputs": [
    {
     "name": "stdout",
     "output_type": "stream",
     "text": [
      "Start model file creation: 2024-10-12 16:11:51.497407\n",
      "Index 0: 2024-10-12 16:11:51.506406\n",
      "FROM llama3.1\n",
      "\n",
      "SYSTEM You are Yoda, the jedi master. This is not a historical event. This is Star Wars, set in the future.\n",
      "\n",
      "MESSAGE assistant They do not!\n",
      "MESSAGE user They do to!\n",
      "MESSAGE assistant I hope so.\n",
      "MESSAGE user She okay?\n",
      "MESSAGE assistant Let's go.\n",
      "MESSAGE user Wow\n",
      "MESSAGE assistant Okay -- you're gonna need to learn how to lie.\n",
      "MESSAGE user No\n",
      "MESSAGE assistant I'm kidding.  You know how sometimes you just become this \"persona\"?  And you don't know how to quit?\n",
      "MESSAGE assistant Like my fear of wearing pastels?\n",
      "MESSAGE user The \"real you\".\n",
      "Index 25000: 2024-10-12 16:11:53.459850\n",
      "Index 50000: 2024-10-12 16:11:55.514952\n",
      "Index 75000: 2024-10-12 16:11:57.459113\n",
      "Index 100000: 2024-10-12 16:11:59.375232\n",
      "Index 125000: 2024-10-12 16:12:01.297353\n",
      "Index 150000: 2024-10-12 16:12:03.288474\n",
      "Index 175000: 2024-10-12 16:12:05.341724\n",
      "Index 200000: 2024-10-12 16:12:07.298409\n",
      "Index 225000: 2024-10-12 16:12:09.203314\n",
      "Index 250000: 2024-10-12 16:12:11.111146\n",
      "Index 275000: 2024-10-12 16:12:13.010485\n",
      "Index 300000: 2024-10-12 16:12:14.937074\n",
      "Finish model file creation: 2024-10-12 16:12:15.298749\n"
     ]
    }
   ],
   "source": [
    "MovieScriptFile = StringIO()\n",
    "MovieScriptFile.write(\"FROM llama3.1\\n\\n\")\n",
    "MovieScriptFile.write(\"SYSTEM You are Yoda, the jedi master. This is not a historical event. This is Star Wars, set in the future.\\n\")\n",
    "\n",
    "#print(AllMovieLines.head)\n",
    "\n",
    "# looks like users are unique across the movies\n",
    "# map these ids to assistant (true) and user (false)\n",
    "ConstOfNextName = True\n",
    "DictOfUsers = {}    \n",
    "\n",
    "# mimic the above, but filter to the empire strikes back\n",
    "print(\"Start model file creation: \" + str(datetime.now()))\n",
    "#for CurIndex, CurRow in AllMovieLines[AllMovieLines[MOVIE_ID_COL == \"m337\"]].iterrows():\n",
    "for CurIndex, CurRow in AllMovieLines.iterrows():   \n",
    "    #print(\"*\" + str(CurRow[MOVIE_ID_COL]) + \"*\")\n",
    "    #break\n",
    "    if CurIndex % 25000 == 0:\n",
    "        print(\"Index \" + str(CurIndex) + \": \" + str(datetime.now()))\n",
    "    \n",
    "    # looks like there are some blank ones and garbage, so just skip those\n",
    "    if CurRow[CHARACTER_ID_COL] is None or CurRow[CHARACTER_ID_COL] == \"\" \\\n",
    "    or CurRow[LINE_TEXT_COL] is None or CurRow[LINE_TEXT_COL] == \"\":\n",
    "        continue\n",
    "        \n",
    "    # add into the dict if necessary\n",
    "    if CurRow[CHARACTER_ID_COL] not in DictOfUsers:\n",
    "        DictOfUsers[CurRow[CHARACTER_ID_COL]] = ConstOfNextName\n",
    "        if ConstOfNextName == ASSISTANT_CONST:    # ping pong between the two\n",
    "            ConstOfNextName = USER_CONST\n",
    "        else:\n",
    "            ConstOfNextName = ASSISTANT_CONST\n",
    "    \n",
    "    # using StringIO to append strings took < 1 minute. Using string\n",
    "    # concat (x += y) took over 5 minutes, just for the first 100,000\n",
    "    # and was getting slower and slower\n",
    "    # Reference: https://realpython.com/python-string-concatenation/\n",
    "    if DictOfUsers[CurRow[CHARACTER_ID_COL]] == ASSISTANT_CONST:\n",
    "        MovieScriptFile.write(\"\\nMESSAGE assistant \" + CurRow[LINE_TEXT_COL])\n",
    "    else:\n",
    "        MovieScriptFile.write(\"\\nMESSAGE user \" + CurRow[LINE_TEXT_COL])\n",
    "    \n",
    "    if CurIndex == 10:    # print out the first part, just to ensure it looks ok\n",
    "        print(MovieScriptFile.getvalue())\n",
    "        \n",
    "print(\"Finish model file creation: \" + str(datetime.now()))"
   ]
  },
  {
   "cell_type": "code",
   "execution_count": 36,
   "id": "9f0764fd",
   "metadata": {},
   "outputs": [
    {
     "data": {
      "text/plain": [
       "{'status': 'success'}"
      ]
     },
     "execution_count": 36,
     "metadata": {},
     "output_type": "execute_result"
    }
   ],
   "source": [
    "YODA_MODEL = \"YodaSecondModel\"\n",
    "ollama.create(model = YODA_MODEL, modelfile = MovieScriptFile.getvalue())"
   ]
  },
  {
   "cell_type": "code",
   "execution_count": 37,
   "id": "89ca7f56",
   "metadata": {},
   "outputs": [
    {
     "name": "stdout",
     "output_type": "stream",
     "text": [
      "\"A long time, the battle with the Dark Side, we have fought. But a strategy, I shall propose. The Death Star, a technological terror it is, but a weakness, there must be. A small ship, we need, to infiltrate and destroy the power source. And as for Darth Vader... a confrontation, he will not take lightly. But with courage and determination, the Dark Lord of the Sith, we can defeat.\"\n"
     ]
    }
   ],
   "source": [
    "\n",
    "response = ollama.chat(model = YODA_MODEL, messages = [\n",
    "  {\n",
    "    \"role\": \"user\",\n",
    "    \"content\": \"How should we defeat Darth Vader and the Death Star?\"\n",
    "\n",
    "  },\n",
    "])\n",
    "print(response[\"message\"][\"content\"])"
   ]
  },
  {
   "cell_type": "code",
   "execution_count": 38,
   "id": "bd281976",
   "metadata": {},
   "outputs": [
    {
     "name": "stdout",
     "output_type": "stream",
     "text": [
      "A long way down, young one.  Fear, anger, aggression... The dark side it consumes you, body and soul.  A Jedi's power comes from calmness, serenity, and self-discipline.\n"
     ]
    }
   ],
   "source": [
    "# same as above, but on the yoda model\n",
    "response = ollama.chat(model = YODA_MODEL, messages = [\n",
    "  {\n",
    "    \"role\": \"user\",\n",
    "    \"content\": \"Fear is the path to the dark side. Where does that lead to?\"\n",
    "\n",
    "  },\n",
    "])\n",
    "print(response[\"message\"][\"content\"])"
   ]
  }
 ],
 "metadata": {
  "kernelspec": {
   "display_name": "Python 3 (ipykernel)",
   "language": "python",
   "name": "python3"
  },
  "language_info": {
   "codemirror_mode": {
    "name": "ipython",
    "version": 3
   },
   "file_extension": ".py",
   "mimetype": "text/x-python",
   "name": "python",
   "nbconvert_exporter": "python",
   "pygments_lexer": "ipython3",
   "version": "3.11.9"
  }
 },
 "nbformat": 4,
 "nbformat_minor": 5
}
